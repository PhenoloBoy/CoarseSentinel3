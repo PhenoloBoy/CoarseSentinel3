{
 "cells": [
  {
   "cell_type": "code",
   "execution_count": 1,
   "metadata": {},
   "outputs": [],
   "source": [
    "import xarray as xr\n",
    "import sys\n",
    "import numpy as np\n",
    "import matplotlib.pyplot as plt"
   ]
  },
  {
   "cell_type": "markdown",
   "metadata": {},
   "source": [
    "Define file position "
   ]
  },
  {
   "cell_type": "code",
   "execution_count": 2,
   "metadata": {},
   "outputs": [],
   "source": [
    "path = 'D:/Data/CGL_subproject_coarse_res/04_ndvi/c_gls_NDVI300_201905210000_GLOBE_PROBAV_V1.0.1.nc'"
   ]
  },
  {
   "cell_type": "markdown",
   "metadata": {},
   "source": [
    "Define the extent of the AOI in the format [Long_min, Long_Max, Lat_min, Lat_Max]. The extent will be adjusted according to the max extent of the 1 Km product that contain the selected coordinates."
   ]
  },
  {
   "cell_type": "code",
   "execution_count": 3,
   "metadata": {},
   "outputs": [],
   "source": [
    "my_ext = [-18.58, 62.95, 51.57, 28.5]"
   ]
  },
  {
   "cell_type": "markdown",
   "metadata": {},
   "source": [
    "Open the dataset"
   ]
  },
  {
   "cell_type": "code",
   "execution_count": 4,
   "metadata": {},
   "outputs": [],
   "source": [
    "ds = xr.open_dataset(path, mask_and_scale=True)"
   ]
  },
  {
   "cell_type": "markdown",
   "metadata": {},
   "source": [
    "Set parameters according to the product to be analyzed."
   ]
  },
  {
   "cell_type": "code",
   "execution_count": 5,
   "metadata": {},
   "outputs": [],
   "source": [
    "if 'LAI' in ds.data_vars:\n",
    "    product = 'LAI'\n",
    "    DN_max = 7.\n",
    "    da = ds.LAI\n",
    "    short_name = ''\n",
    "    long_name = ''\n",
    "elif 'FCOVER' in ds.data_vars:\n",
    "    product = 'FCOVER'\n",
    "    DN_max = .94\n",
    "    da = ds.FCOVER\n",
    "    short_name = ''\n",
    "    long_name = ''\n",
    "elif 'FAPAR' in ds.data_vars:\n",
    "    product = 'FAPAR'\n",
    "    DN_max = .94\n",
    "    da = ds.FAPAR\n",
    "    short_name = ''\n",
    "    long_name = ''\n",
    "elif 'NDVI' in ds.data_vars:\n",
    "    product = 'NDVI'\n",
    "    DN_max = .92\n",
    "    da = ds.NDVI\n",
    "    short_name = 'Normalized_difference_vegetation_index'\n",
    "    long_name = 'Normalized Difference Vegetation Index Resampled 1 Km'\n",
    "elif 'DMP' in ds.data_vars:\n",
    "    DN_max = 327.67\n",
    "    product = 'DMP'\n",
    "    da = ds.DMP\n",
    "    short_name = ''\n",
    "    long_name = ''\n",
    "elif 'GDMP' in ds.data_vars:\n",
    "    product = 'GDMP'\n",
    "    DN_max = 655.34\n",
    "    da = ds.GDMP\n",
    "    short_name = ''\n",
    "    long_name = ''\n",
    "else:\n",
    "    sys.exit('GLC product not found please chek')"
   ]
  },
  {
   "cell_type": "code",
   "execution_count": 6,
   "metadata": {},
   "outputs": [],
   "source": [
    "def find_nearest(array, value):\n",
    "    array = np.asarray(array)\n",
    "    idx = (np.abs(array - value)).argmin()\n",
    "    return array[idx]"
   ]
  },
  {
   "cell_type": "code",
   "execution_count": 7,
   "metadata": {},
   "outputs": [],
   "source": [
    "def bnd_box_adj(my_est):\n",
    "    lat_1k = np.arange(80.,-60., -1./112)\n",
    "    lon_1k = np.arange(-180.,180., 1./112)\n",
    "    \n",
    "    lat_300 = ds.lat.values\n",
    "    lon_300 = ds.lon.values\n",
    "    ext_1K = np.zeros(4)\n",
    "    \n",
    "    #TODO find a more pythonic way\n",
    "    ext_1K[0] = find_nearest(lon_1k, my_ext[0])-1/224\n",
    "    ext_1K[1] = find_nearest(lat_1k, my_ext[1])+1/224\n",
    "    ext_1K[2] = find_nearest(lon_1k, my_ext[2])-1/224\n",
    "    ext_1K[3] = find_nearest(lat_1k, my_ext[3])+1/224\n",
    "    \n",
    "    my_ext[0] = find_nearest(lat_300, ext_1K[0])\n",
    "    my_ext[1] = find_nearest(lon_300, ext_1K[1])\n",
    "    my_ext[2] = find_nearest(lat_300, ext_1K[2])\n",
    "    my_ext[3] = find_nearest(lon_300, ext_1K[3])\n",
    "    return my_ext\n",
    "    "
   ]
  },
  {
   "cell_type": "markdown",
   "metadata": {},
   "source": [
    "Check coordinates consistency and adapt coordinates to the 1km grid"
   ]
  },
  {
   "cell_type": "code",
   "execution_count": 8,
   "metadata": {},
   "outputs": [],
   "source": [
    "if len(my_ext):\n",
    "    assert my_ext[1] >= my_ext[3], 'min Latitude is bigger than correspond Max, ' \\\n",
    "                                   'pls change position or check values.'\n",
    "    assert my_ext[0] <= my_ext[2], 'min Longitude is bigger than correspond Max, ' \\\n",
    "                                   'pls change position or check values.'\n",
    "    assert ds.lat[-1] <= my_ext[3] <= ds.lat[0], 'min Latitudinal value out of original dataset Max ext.'\n",
    "    assert ds.lat[-1] <= my_ext[1] <= ds.lat[0], 'Max Latitudinal value out of original dataset Max ext.'\n",
    "    assert ds.lon[0] <= my_ext[0] <= ds.lon[-1], 'min Longitudinal value out of original dataset Max ext.'\n",
    "    assert ds.lon[0] <= my_ext[2] <= ds.lon[-1], 'Max Longitudinal value out of original dataset Max ext.'\n",
    "    adj_ext = bnd_box_adj(my_ext)\n",
    "    \n",
    "    da = da.sel(lon=slice(adj_ext[0], adj_ext[2]), lat=slice(adj_ext[1], adj_ext[3]))\n",
    "else:\n",
    "    da = da.shift(lat=1, lon=1)"
   ]
  },
  {
   "cell_type": "markdown",
   "metadata": {},
   "source": [
    "Mask out flag values."
   ]
  },
  {
   "cell_type": "code",
   "execution_count": 9,
   "metadata": {},
   "outputs": [],
   "source": [
    "# TODO differentiate according to the different products structures\n",
    "da_msk = da.where(da <= DN_max)"
   ]
  },
  {
   "cell_type": "markdown",
   "metadata": {},
   "source": [
    "Obtain a coarsen resolution. "
   ]
  },
  {
   "cell_type": "code",
   "execution_count": 10,
   "metadata": {},
   "outputs": [
    {
     "name": "stderr",
     "output_type": "stream",
     "text": [
      "C:\\Users\\Pier\\Anaconda3\\envs\\treotto_dev\\lib\\site-packages\\xarray\\core\\nanops.py:142: RuntimeWarning: Mean of empty slice\n",
      "  return np.nanmean(a, axis=axis, dtype=dtype)\n"
     ]
    }
   ],
   "source": [
    "coarsen = da_msk.coarsen(lat=3, lon=3, coord_func=np.mean, boundary='trim', keep_attrs=False).mean()"
   ]
  },
  {
   "cell_type": "markdown",
   "metadata": {},
   "source": [
    "Over impose the minimum number of valid observations (5)."
   ]
  },
  {
   "cell_type": "code",
   "execution_count": 11,
   "metadata": {},
   "outputs": [],
   "source": [
    "vo = xr.where(da <= DN_max, 1, 0)\n",
    "vo_cnt = vo.coarsen(lat=3, lon=3, coord_func=np.mean, boundary='trim', keep_attrs=False).sum()\n",
    "da_r = coarsen.where(vo_cnt >= 5)"
   ]
  },
  {
   "cell_type": "markdown",
   "metadata": {},
   "source": [
    "Output writing"
   ]
  },
  {
   "cell_type": "code",
   "execution_count": 12,
   "metadata": {},
   "outputs": [
    {
     "name": "stdout",
     "output_type": "stream",
     "text": [
      "Done\n"
     ]
    }
   ],
   "source": [
    "da_r.name = product\n",
    "da_r.attrs['short_name'] = short_name\n",
    "da_r.attrs['long_name'] = long_name\n",
    "prmts = dict({product: {'dtype': 'f8', 'zlib': 'True', 'complevel': 4}})\n",
    "da_r.to_netcdf(f'D:/Data/CGL_subproject_coarse_res/Tests/CGL_{product}_1KM_R_Europe_20190521.nc', encoding=prmts)\n",
    "print('Done')"
   ]
  },
  {
   "cell_type": "code",
   "execution_count": 22,
   "metadata": {},
   "outputs": [],
   "source": [
    "%matplotlib qt\n",
    "da_r.plot(robust=True, cmap='YlGn', figsize=(15,10))\n",
    "\n",
    "plt.title(f'Copernicus Global Land\\n Resampled {product} to 1K over Europe\\n date: 20190521')\n",
    "plt.ylabel('latitude')\n",
    "plt.xlabel('longitude')\n",
    "plt.draw()"
   ]
  },
  {
   "cell_type": "code",
   "execution_count": null,
   "metadata": {},
   "outputs": [],
   "source": []
  }
 ],
 "metadata": {
  "kernelspec": {
   "display_name": "treotto_dev",
   "language": "python",
   "name": "treotto_dev"
  },
  "language_info": {
   "codemirror_mode": {
    "name": "ipython",
    "version": 3
   },
   "file_extension": ".py",
   "mimetype": "text/x-python",
   "name": "python",
   "nbconvert_exporter": "python",
   "pygments_lexer": "ipython3",
   "version": "3.8.3"
  }
 },
 "nbformat": 4,
 "nbformat_minor": 4
}