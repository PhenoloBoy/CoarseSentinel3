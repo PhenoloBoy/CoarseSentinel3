{
 "cells": [
  {
   "cell_type": "code",
   "execution_count": 1,
   "metadata": {},
   "outputs": [],
   "source": [
    "import datetime as dt\n",
    "import os\n",
    "import sys\n",
    "\n",
    "import matplotlib.pyplot as plt\n",
    "import numpy as np\n",
    "import xarray as xr"
   ]
  },
  {
   "cell_type": "markdown",
   "metadata": {},
   "source": [
    "Define file position "
   ]
  },
  {
   "cell_type": "code",
   "execution_count": 2,
   "metadata": {},
   "outputs": [],
   "source": [
    "path = 'D:/Data/CGL_subproject_coarse_res/2019/300/c_gls_NDVI300_201905010000_GLOBE_PROBAV_V1.0.1.nc'"
   ]
  },
  {
   "cell_type": "markdown",
   "source": [
    "Extract the observation date from the file name"
   ],
   "metadata": {
    "collapsed": false,
    "pycharm": {
     "name": "#%% md\n"
    }
   }
  },
  {
   "cell_type": "code",
   "execution_count": null,
   "outputs": [],
   "source": [
    "head, tail = os.path.split(path)\n",
    "pos = [pos for pos, char in enumerate(tail) if char == '_'][2]\n",
    "date = tail[pos + 1: pos + 9]\n",
    "date_h = dt.datetime.strptime(date, '%Y%m%d').date()"
   ],
   "metadata": {
    "collapsed": false,
    "pycharm": {
     "name": "#%%\n"
    }
   }
  },
  {
   "cell_type": "markdown",
   "metadata": {},
   "source": [
    "Define the extent of the AOI in the format [Long_min, Long_Max, Lat_min, Lat_Max]. \n",
    "The extent will be shrincked according to the max extent of the Km product that cointain the selected coordinates. "
   ]
  },
  {
   "cell_type": "code",
   "execution_count": 3,
   "metadata": {},
   "outputs": [],
   "source": [
    "my_ext = [-18.58, 62.95, 51.57, 28.5]"
   ]
  },
  {
   "cell_type": "markdown",
   "metadata": {},
   "source": [
    "Open the dataset"
   ]
  },
  {
   "cell_type": "code",
   "execution_count": 4,
   "metadata": {},
   "outputs": [],
   "source": [
    "ds = xr.open_dataset(path, mask_and_scale=True)"
   ]
  },
  {
   "cell_type": "markdown",
   "metadata": {},
   "source": [
    "Set parameters according to the product in anlysis."
   ]
  },
  {
   "cell_type": "code",
   "execution_count": 5,
   "metadata": {},
   "outputs": [],
   "source": [
    "if 'LAI' in ds.data_vars:\n",
    "    param = {'product': 'LAI',\n",
    "             'short_name': 'leaf_area_index',\n",
    "             'long_name': 'Leaf Area Index Resampled 1 Km',\n",
    "             'grid_mapping': 'crs',\n",
    "             'flag_meanings': 'Missing',\n",
    "             'flag_values': '255',\n",
    "             'units': '',\n",
    "             'PHYSICAL_MIN': 0,\n",
    "             'PHYSICAL_MAX': 7,\n",
    "             'DIGITAL_MAX': 210,\n",
    "             'SCALING': 1./30,\n",
    "             'OFFSET': 0}\n",
    "    da = ds.LAI\n",
    "\n",
    "elif 'FCOVER' in ds.data_vars:\n",
    "    param = {'product': 'FCOVER',\n",
    "             'short_name': 'vegetation_area_fraction',\n",
    "             'long_name': 'Fraction of green Vegetation Cover Resampled 1 Km',\n",
    "             'grid_mapping': 'crs',\n",
    "             'flag_meanings': 'Missing',\n",
    "             'flag_values': '255',\n",
    "             'units': '',\n",
    "             'valid_range': '',\n",
    "             'PHYSICAL_MIN': 0,\n",
    "             'PHYSICAL_MAX': 1.,\n",
    "             'DIGITAL_MAX': 250,\n",
    "             'SCALING': 1./250,\n",
    "             'OFFSET': 0}\n",
    "    da = ds.FCOVER\n",
    "\n",
    "elif 'FAPAR' in ds.data_vars:\n",
    "    param = {'product': 'FAPAR',\n",
    "             'short_name': 'Fraction_of_Absorbed_Photosynthetically_Active_Radiation',\n",
    "             'long_name': 'Fraction of Absorbed Photosynthetically Active Radiation Resampled 1 KM',\n",
    "             'grid_mapping': 'crs',\n",
    "             'flag_meanings': 'Missing',\n",
    "             'flag_values': '255',\n",
    "             'units': '',\n",
    "             'valid_range': '',\n",
    "             'PHYSICAL_MIN': 0,\n",
    "             'PHYSICAL_MAX': 0.94,\n",
    "             'DIGITAL_MAX': 235,\n",
    "             'SCALING': 1./250,\n",
    "             'OFFSET': 0}\n",
    "    da = ds.FAPAR\n",
    "\n",
    "elif 'NDVI' in ds.data_vars:\n",
    "    param = {'product': 'NDVI',\n",
    "             'short_name': 'Normalized_difference_vegetation_index',\n",
    "             'long_name': 'Normalized Difference Vegetation Index Resampled 1 Km',\n",
    "             'grid_mapping': 'crs',\n",
    "             'flag_meanings': 'Missing cloud snow sea background',\n",
    "             'flag_values': '[251 252 253 254 255]',\n",
    "             'units': '',\n",
    "             'PHYSICAL_MIN': -0.08,\n",
    "             'PHYSICAL_MAX': 0.92,\n",
    "             'DIGITAL_MAX': 250,\n",
    "             'SCALING': 1./250,\n",
    "             'OFFSET': -0.08}\n",
    "    da = ds.NDVI\n",
    "\n",
    "elif 'DMP' in ds.data_vars:\n",
    "    param = {'product': 'DMP',\n",
    "             'short_name': 'dry_matter_productivity',\n",
    "             'long_name': 'Dry matter productivity Resampled 1KM',\n",
    "             'grid_mapping': 'crs',\n",
    "             'flag_meanings': 'sea',\n",
    "             'flag_values': '-2',\n",
    "             'units': 'kg / ha / day',\n",
    "             'PHYSICAL_MIN': 0,\n",
    "             'PHYSICAL_MAX': 327.67,\n",
    "             'DIGITAL_MAX': 32767,\n",
    "             'SCALING': 1./100,\n",
    "             'OFFSET': 0}\n",
    "    da = ds.DMP\n",
    "\n",
    "elif 'GDMP' in ds.data_vars:\n",
    "    param = {'product': 'GDMP',\n",
    "             'short_name': 'Gross_dry_matter_productivity',\n",
    "             'long_name': 'Gross dry matter productivity Resampled 1KM',\n",
    "             'grid_mapping': 'crs',\n",
    "             'flag_meanings': 'sea',\n",
    "             'flag_values': '-2',\n",
    "             'units': 'kg / hectare / day',\n",
    "             'PHYSICAL_MIN': 0,\n",
    "             'PHYSICAL_MAX': 655.34,\n",
    "             'DIGITAL_MAX': 32767,\n",
    "             'SCALING': 1./50,\n",
    "             'OFFSET': 0}\n",
    "    da = ds.GDMP\n",
    "\n",
    "else:\n",
    "    sys.exit('GLC product not found please chek')"
   ]
  },
  {
   "cell_type": "code",
   "execution_count": 6,
   "metadata": {},
   "outputs": [],
   "source": [
    "def find_nearest(array, value):\n",
    "    array = np.asarray(array)\n",
    "    idx = (np.abs(array - value)).argmin()\n",
    "    return array[idx]"
   ]
  },
  {
   "cell_type": "code",
   "execution_count": null,
   "metadata": {},
   "outputs": [],
   "source": [
    "def bnd_box_adj(my_est):\n",
    "    lat_1k = np.arange(80.,-60., -1./112)\n",
    "    lon_1k = np.arange(-180.,180., 1./112)\n",
    "    \n",
    "    lat_300 = ds.lat.values\n",
    "    lon_300 = ds.lon.values\n",
    "    ext_1K = np.zeros(4)\n",
    "\n",
    "    ext_1K[0] = find_nearest(lon_1k, my_ext[0])-1/224\n",
    "    ext_1K[1] = find_nearest(lat_1k, my_ext[1])+1/224\n",
    "    ext_1K[2] = find_nearest(lon_1k, my_ext[2])-1/224\n",
    "    ext_1K[3] = find_nearest(lat_1k, my_ext[3])+1/224\n",
    "    \n",
    "    my_ext[0] = find_nearest(lat_300, ext_1K[0])\n",
    "    my_ext[1] = find_nearest(lon_300, ext_1K[1])\n",
    "    my_ext[2] = find_nearest(lat_300, ext_1K[2])\n",
    "    my_ext[3] = find_nearest(lon_300, ext_1K[3])\n",
    "    return my_ext\n",
    "    "
   ]
  },
  {
   "cell_type": "markdown",
   "metadata": {},
   "source": [
    "Check coordinates consistency and subsample the dataset"
   ]
  },
  {
   "cell_type": "code",
   "execution_count": 10,
   "metadata": {},
   "outputs": [],
   "source": [
    "if len(my_ext):\n",
    "    assert my_ext[1] >= my_ext[3], 'min Latitude is bigger than correspond Max, ' \\\n",
    "                                   'pls change position or check values.'\n",
    "    assert my_ext[0] <= my_ext[2], 'min Longitude is bigger than correspond Max, ' \\\n",
    "                                   'pls change position or check values.'\n",
    "    assert ds.lat[-1] <= my_ext[3] <= ds.lat[0], 'min Latitudinal value out of original dataset Max ext.'\n",
    "    assert ds.lat[-1] <= my_ext[1] <= ds.lat[0], 'Max Latitudinal value out of original dataset Max ext.'\n",
    "    assert ds.lon[0] <= my_ext[0] <= ds.lon[-1], 'min Longitudinal value out of original dataset Max ext.'\n",
    "    assert ds.lon[0] <= my_ext[2] <= ds.lon[-1], 'Max Longitudinal value out of original dataset Max ext.'\n",
    "    adj_ext = bnd_box_adj(my_ext)\n",
    "\n",
    "    da = da.sel(lon=slice(adj_ext[0], adj_ext[2]), lat=slice(adj_ext[1], adj_ext[3]))\n",
    "else:\n",
    "    da = da.shift(lat=1, lon=1)"
   ]
  },
  {
   "cell_type": "markdown",
   "metadata": {},
   "source": [
    "Mask out flag values."
   ]
  },
  {
   "cell_type": "code",
   "execution_count": 11,
   "metadata": {},
   "outputs": [],
   "source": [
    "da_msk = da.where(da <= param['DIGITAL_MAX'])"
   ]
  },
  {
   "cell_type": "markdown",
   "metadata": {},
   "source": [
    "Obtain a coarsen resolution. "
   ]
  },
  {
   "cell_type": "code",
   "execution_count": 12,
   "metadata": {},
   "outputs": [
    {
     "name": "stderr",
     "output_type": "stream",
     "text": [
      "C:\\Users\\Pier\\Anaconda3\\envs\\treotto_dev\\lib\\site-packages\\xarray\\core\\nanops.py:142: RuntimeWarning: Mean of empty slice\n",
      "  return np.nanmean(a, axis=axis, dtype=dtype)\n"
     ]
    }
   ],
   "source": [
    "coarsen = da_msk.coarsen(lat=3, lon=3, coord_func=np.mean, boundary='trim', keep_attrs=False).mean()"
   ]
  },
  {
   "cell_type": "markdown",
   "metadata": {},
   "source": [
    "Over impose the minimum number of valid observations. (Actually imposed to 5)"
   ]
  },
  {
   "cell_type": "code",
   "execution_count": 13,
   "metadata": {},
   "outputs": [],
   "source": [
    "vo = xr.where(da <= param['DIGITAL_MAX'], 1, 0)\n",
    "vo_cnt = vo.coarsen(lat=3, lon=3, coord_func=np.mean, boundary='trim', keep_attrs=False).sum()\n",
    "da_r = coarsen.where(vo_cnt >= 5)"
   ]
  },
  {
   "cell_type": "markdown",
   "metadata": {},
   "source": [
    "Output writing"
   ]
  },
  {
   "cell_type": "code",
   "execution_count": 16,
   "metadata": {},
   "outputs": [
    {
     "name": "stdout",
     "output_type": "stream",
     "text": [
      "Done\n"
     ]
    }
   ],
   "source": [
    "da_r.name = param['product']\n",
    "da_r.attrs['short_name'] = param['short_name']\n",
    "da_r.attrs['long_name'] = param['long_name']\n",
    "prmts = dict({param['product']: {'dtype': 'f8', 'zlib': 'True', 'complevel': 4}})\n",
    "name = param['product']\n",
    "da_r.to_netcdf(rf'D:/Data/CGL_subproject_coarse_res/Tests/CGLS_{name}_1KM_R_Europe_{date}.nc', encoding=prmts)\n",
    "print('Done')"
   ]
  },
  {
   "cell_type": "code",
   "execution_count": 17,
   "metadata": {},
   "outputs": [
    {
     "data": {
      "text/plain": [
       "<matplotlib.collections.QuadMesh at 0x1c83705a490>"
      ]
     },
     "execution_count": 17,
     "metadata": {},
     "output_type": "execute_result"
    }
   ],
   "source": [
    ".\n",
    "da_r.plot(robust=True, cmap='YlGn', figsize=(15, 10))\n",
    "plt.title(f'Copernicus Global Land\\n Resampled {name} to 1K over Europe\\n date: 20190521')\n",
    "plt.ylabel('latitude')\n",
    "plt.xlabel('longitude')\n",
    "plt.draw()\n",
    "plt.show()"
   ]
  },
  {
   "cell_type": "code",
   "execution_count": null,
   "metadata": {},
   "outputs": [],
   "source": []
  }
 ],
 "metadata": {
  "kernelspec": {
   "display_name": "treotto_dev",
   "language": "python",
   "name": "treotto_dev"
  },
  "language_info": {
   "codemirror_mode": {
    "name": "ipython",
    "version": 3
   },
   "file_extension": ".py",
   "mimetype": "text/x-python",
   "name": "python",
   "nbconvert_exporter": "python",
   "pygments_lexer": "ipython3",
   "version": "3.8.3"
  }
 },
 "nbformat": 4,
 "nbformat_minor": 4
}